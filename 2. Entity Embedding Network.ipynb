{
 "cells": [
  {
   "cell_type": "markdown",
   "metadata": {},
   "source": [
    "# What is Entity Embedding?"
   ]
  },
  {
   "cell_type": "markdown",
   "metadata": {},
   "source": [
    "There are two mainstream methods to deal with categorical variables in tabular data: [One-hot Encoding](http://scikit-learn.org/stable/modules/generated/sklearn.preprocessing.OneHotEncoder.html) and [Label Encoding](http://scikit-learn.org/stable/modules/generated/sklearn.preprocessing.LabelEncoder.html)\n",
    "\n",
    "The main disadvantage of the one-hot encoding schems is that it increases the dimensionality of the data set, which brings us the [curse of dimensionality](https://en.wikipedia.org/wiki/Curse_of_dimensionality). And, the resulting data set becomes a lot sparse and this adversely affects many algorithms (eg. distance based)."
   ]
  },
  {
   "cell_type": "markdown",
   "metadata": {},
   "source": [
    "Lebel Encoding usually a replaces a number to a category. The downside of this approach is that it is not carrying any meaningful information about the ordinance of categories. For instance, if there are three categories in a column by the names of `mouse`, `cat` and `dog`, a label-encoding scheme would replace the categories with `1`, `2` and `3` respectively (say). Even though the category `dog` has assigned a value of three, it doesn't mean that a `dog` is three times larger than a `cat`, which got a value of `1`."
   ]
  },
  {
   "cell_type": "markdown",
   "metadata": {},
   "source": [
    "The idea of using entity embeddings is exactly the same as using [word embeddings](https://en.wikipedia.org/wiki/Word_embedding) for a corpus of text. In a word embedding scheme like Word2Vec, a single word gets assigned to a dense vector instead of a sparse vector like in one-hot encoding. Similarly, an entity embedding scheme would map the categories in a cloumn to a set of vectors in a vector space where similar categories live at closer distances and a rich representation in a high dimensional vector space for each category is achieved."
   ]
  },
  {
   "cell_type": "markdown",
   "metadata": {},
   "source": [
    "## Steps of building an entity embedding network"
   ]
  },
  {
   "cell_type": "markdown",
   "metadata": {},
   "source": [
    "Concretely, the steps break down as below:\n",
    "\n",
    "1. Identify and separate the categorical and numeric columns.\n",
    "2. Label-encode all the categorical values so that each category is represented by a number in each column.\n",
    "3. Build a neural network that takes the input as the label encoded categorical values along with the numeric values; the architecture is open to experiment with different setups.\n",
    "4. Train the model and extract the weights that connect to categorical variables in to the network to use in a different model. (optional and not attempted here. But this is the coolest part in this process, the weights we extract are the embeddings for a certain category.)\n"
   ]
  },
  {
   "cell_type": "markdown",
   "metadata": {},
   "source": [
    "The below is a walkthrough of building and training an entity embedding network using the data set loaded in `1. Data Preprocessing`."
   ]
  },
  {
   "cell_type": "code",
   "execution_count": 1,
   "metadata": {
    "collapsed": false
   },
   "outputs": [],
   "source": [
    "import warnings\n",
    "warnings.filterwarnings('ignore')"
   ]
  },
  {
   "cell_type": "code",
   "execution_count": 2,
   "metadata": {
    "collapsed": false
   },
   "outputs": [
    {
     "name": "stderr",
     "output_type": "stream",
     "text": [
      "Using TensorFlow backend.\n"
     ]
    }
   ],
   "source": [
    "# the model and some helper functions are defined in embed_helpers.py\n",
    "import embed_helpers as eh"
   ]
  },
  {
   "cell_type": "code",
   "execution_count": 3,
   "metadata": {
    "collapsed": false
   },
   "outputs": [],
   "source": [
    "import numpy as np\n",
    "import pandas as pd\n",
    "import matplotlib.pyplot as plt\n",
    "%matplotlib inline\n",
    "\n",
    "np.random.seed(42)\n",
    "from tensorflow import set_random_seed\n",
    "set_random_seed(42)\n",
    "\n",
    "from sklearn.model_selection import train_test_split, StratifiedKFold, cross_val_score\n",
    "from sklearn.preprocessing import LabelEncoder, StandardScaler\n",
    "from sklearn.metrics import accuracy_score, auc, confusion_matrix\n",
    "\n",
    "import pickle"
   ]
  },
  {
   "cell_type": "markdown",
   "metadata": {},
   "source": [
    "The original `adults.csv` data set was changed a bit in the `1. Data Processing.ipynb` notebook. A few data cleaning steps were done: removing rows that contain at least one unknown value ,encoding the target variable `income`, adding an identifier to categorical columns."
   ]
  },
  {
   "cell_type": "code",
   "execution_count": 4,
   "metadata": {
    "collapsed": false
   },
   "outputs": [],
   "source": [
    "# data loading & separating the target\n",
    "df = pd.read_csv('data/adult_edited.csv')\n",
    "df_x = df.drop('income', axis=1)\n",
    "df_y = df['income']"
   ]
  },
  {
   "cell_type": "code",
   "execution_count": 5,
   "metadata": {
    "collapsed": true
   },
   "outputs": [],
   "source": [
    "# categorcical column names\n",
    "cat_names = ['workclass_cat', 'education_cat', 'marital.status_cat','occupation_cat', 'relationship_cat', 'race_cat', 'sex_cat', 'native.country_cat']"
   ]
  },
  {
   "cell_type": "markdown",
   "metadata": {},
   "source": [
    "The function `process_data()` label-encodes the categorical variables and returns a dataframe and a collection of label encoders. I'll save the label-encoder metadata for future use."
   ]
  },
  {
   "cell_type": "code",
   "execution_count": 6,
   "metadata": {
    "collapsed": false
   },
   "outputs": [
    {
     "name": "stdout",
     "output_type": "stream",
     "text": [
      "label encoders saved to: models/label_encoders.pickle\n"
     ]
    }
   ],
   "source": [
    "df_x = eh.pre_process_data(df_x, cat_names)"
   ]
  },
  {
   "cell_type": "code",
   "execution_count": 7,
   "metadata": {
    "collapsed": false
   },
   "outputs": [
    {
     "data": {
      "text/html": [
       "<div>\n",
       "<style scoped>\n",
       "    .dataframe tbody tr th:only-of-type {\n",
       "        vertical-align: middle;\n",
       "    }\n",
       "\n",
       "    .dataframe tbody tr th {\n",
       "        vertical-align: top;\n",
       "    }\n",
       "\n",
       "    .dataframe thead th {\n",
       "        text-align: right;\n",
       "    }\n",
       "</style>\n",
       "<table border=\"1\" class=\"dataframe\">\n",
       "  <thead>\n",
       "    <tr style=\"text-align: right;\">\n",
       "      <th></th>\n",
       "      <th>workclass_cat</th>\n",
       "      <th>education_cat</th>\n",
       "      <th>marital.status_cat</th>\n",
       "      <th>occupation_cat</th>\n",
       "      <th>relationship_cat</th>\n",
       "      <th>race_cat</th>\n",
       "      <th>sex_cat</th>\n",
       "      <th>native.country_cat</th>\n",
       "      <th>age</th>\n",
       "      <th>fnlwgt</th>\n",
       "      <th>education.num</th>\n",
       "      <th>capital.gain</th>\n",
       "      <th>capital.loss</th>\n",
       "      <th>hours.per.week</th>\n",
       "    </tr>\n",
       "  </thead>\n",
       "  <tbody>\n",
       "    <tr>\n",
       "      <th>0</th>\n",
       "      <td>2</td>\n",
       "      <td>11</td>\n",
       "      <td>6</td>\n",
       "      <td>3</td>\n",
       "      <td>1</td>\n",
       "      <td>4</td>\n",
       "      <td>0</td>\n",
       "      <td>38</td>\n",
       "      <td>82</td>\n",
       "      <td>132870</td>\n",
       "      <td>9</td>\n",
       "      <td>0</td>\n",
       "      <td>4356</td>\n",
       "      <td>18</td>\n",
       "    </tr>\n",
       "    <tr>\n",
       "      <th>1</th>\n",
       "      <td>2</td>\n",
       "      <td>5</td>\n",
       "      <td>0</td>\n",
       "      <td>6</td>\n",
       "      <td>4</td>\n",
       "      <td>4</td>\n",
       "      <td>0</td>\n",
       "      <td>38</td>\n",
       "      <td>54</td>\n",
       "      <td>140359</td>\n",
       "      <td>4</td>\n",
       "      <td>0</td>\n",
       "      <td>3900</td>\n",
       "      <td>40</td>\n",
       "    </tr>\n",
       "    <tr>\n",
       "      <th>2</th>\n",
       "      <td>2</td>\n",
       "      <td>15</td>\n",
       "      <td>5</td>\n",
       "      <td>9</td>\n",
       "      <td>3</td>\n",
       "      <td>4</td>\n",
       "      <td>0</td>\n",
       "      <td>38</td>\n",
       "      <td>41</td>\n",
       "      <td>264663</td>\n",
       "      <td>10</td>\n",
       "      <td>0</td>\n",
       "      <td>3900</td>\n",
       "      <td>40</td>\n",
       "    </tr>\n",
       "    <tr>\n",
       "      <th>3</th>\n",
       "      <td>2</td>\n",
       "      <td>11</td>\n",
       "      <td>0</td>\n",
       "      <td>7</td>\n",
       "      <td>4</td>\n",
       "      <td>4</td>\n",
       "      <td>0</td>\n",
       "      <td>38</td>\n",
       "      <td>34</td>\n",
       "      <td>216864</td>\n",
       "      <td>9</td>\n",
       "      <td>0</td>\n",
       "      <td>3770</td>\n",
       "      <td>45</td>\n",
       "    </tr>\n",
       "    <tr>\n",
       "      <th>4</th>\n",
       "      <td>2</td>\n",
       "      <td>0</td>\n",
       "      <td>5</td>\n",
       "      <td>0</td>\n",
       "      <td>4</td>\n",
       "      <td>4</td>\n",
       "      <td>1</td>\n",
       "      <td>38</td>\n",
       "      <td>38</td>\n",
       "      <td>150601</td>\n",
       "      <td>6</td>\n",
       "      <td>0</td>\n",
       "      <td>3770</td>\n",
       "      <td>40</td>\n",
       "    </tr>\n",
       "  </tbody>\n",
       "</table>\n",
       "</div>"
      ],
      "text/plain": [
       "   workclass_cat  education_cat  marital.status_cat  occupation_cat  \\\n",
       "0              2             11                   6               3   \n",
       "1              2              5                   0               6   \n",
       "2              2             15                   5               9   \n",
       "3              2             11                   0               7   \n",
       "4              2              0                   5               0   \n",
       "\n",
       "   relationship_cat  race_cat  sex_cat  native.country_cat  age  fnlwgt  \\\n",
       "0                 1         4        0                  38   82  132870   \n",
       "1                 4         4        0                  38   54  140359   \n",
       "2                 3         4        0                  38   41  264663   \n",
       "3                 4         4        0                  38   34  216864   \n",
       "4                 4         4        1                  38   38  150601   \n",
       "\n",
       "   education.num  capital.gain  capital.loss  hours.per.week  \n",
       "0              9             0          4356              18  \n",
       "1              4             0          3900              40  \n",
       "2             10             0          3900              40  \n",
       "3              9             0          3770              45  \n",
       "4              6             0          3770              40  "
      ]
     },
     "execution_count": 7,
     "metadata": {},
     "output_type": "execute_result"
    }
   ],
   "source": [
    "df_x.head()"
   ]
  },
  {
   "cell_type": "code",
   "execution_count": 8,
   "metadata": {
    "collapsed": false,
    "scrolled": true
   },
   "outputs": [
    {
     "data": {
      "text/plain": [
       "['age',\n",
       " 'fnlwgt',\n",
       " 'education.num',\n",
       " 'capital.gain',\n",
       " 'capital.loss',\n",
       " 'hours.per.week']"
      ]
     },
     "execution_count": 8,
     "metadata": {},
     "output_type": "execute_result"
    }
   ],
   "source": [
    "# identify the numeric columns\n",
    "numeric_cols = [c for c in df_x.columns if (not c.endswith('_cat'))]\n",
    "numeric_cols"
   ]
  },
  {
   "cell_type": "markdown",
   "metadata": {},
   "source": [
    "Number of different categories for each column:"
   ]
  },
  {
   "cell_type": "code",
   "execution_count": 9,
   "metadata": {
    "collapsed": false
   },
   "outputs": [
    {
     "name": "stdout",
     "output_type": "stream",
     "text": [
      "education_cat: 16 values\n",
      "relationship_cat: 6 values\n",
      "occupation_cat: 14 values\n",
      "race_cat: 5 values\n",
      "native.country_cat: 41 values\n",
      "sex_cat: 2 values\n",
      "workclass_cat: 7 values\n",
      "marital.status_cat: 7 values\n"
     ]
    }
   ],
   "source": [
    "# identify the categorical columns and their respective number of categories present\n",
    "cat_vals_dict = {c: list(df_x[c].unique()) for c in df_x.columns if c.endswith('_cat')}\n",
    "embed_cols = [c for c in cat_vals_dict]\n",
    "for c in embed_cols:\n",
    "    print(c + ': %d values' % len(cat_vals_dict[c])) "
   ]
  },
  {
   "cell_type": "markdown",
   "metadata": {},
   "source": [
    "Saving the edited features to a csv"
   ]
  },
  {
   "cell_type": "code",
   "execution_count": 10,
   "metadata": {
    "collapsed": true
   },
   "outputs": [],
   "source": [
    "df_x.to_csv('data/adults_encoded_cats.csv', index=False)\n",
    "df_y.to_csv('data/adults_encoded_cats_labels.csv', index=False, header='income')"
   ]
  },
  {
   "cell_type": "markdown",
   "metadata": {},
   "source": [
    "# Training the embedding network"
   ]
  },
  {
   "cell_type": "markdown",
   "metadata": {},
   "source": [
    "#### Preparing data"
   ]
  },
  {
   "cell_type": "code",
   "execution_count": 11,
   "metadata": {
    "collapsed": false,
    "scrolled": true
   },
   "outputs": [
    {
     "data": {
      "text/html": [
       "<div>\n",
       "<style scoped>\n",
       "    .dataframe tbody tr th:only-of-type {\n",
       "        vertical-align: middle;\n",
       "    }\n",
       "\n",
       "    .dataframe tbody tr th {\n",
       "        vertical-align: top;\n",
       "    }\n",
       "\n",
       "    .dataframe thead th {\n",
       "        text-align: right;\n",
       "    }\n",
       "</style>\n",
       "<table border=\"1\" class=\"dataframe\">\n",
       "  <thead>\n",
       "    <tr style=\"text-align: right;\">\n",
       "      <th></th>\n",
       "      <th>workclass_cat</th>\n",
       "      <th>education_cat</th>\n",
       "      <th>marital.status_cat</th>\n",
       "      <th>occupation_cat</th>\n",
       "      <th>relationship_cat</th>\n",
       "      <th>race_cat</th>\n",
       "      <th>sex_cat</th>\n",
       "      <th>native.country_cat</th>\n",
       "      <th>age</th>\n",
       "      <th>fnlwgt</th>\n",
       "      <th>education.num</th>\n",
       "      <th>capital.gain</th>\n",
       "      <th>capital.loss</th>\n",
       "      <th>hours.per.week</th>\n",
       "    </tr>\n",
       "  </thead>\n",
       "  <tbody>\n",
       "    <tr>\n",
       "      <th>0</th>\n",
       "      <td>2</td>\n",
       "      <td>11</td>\n",
       "      <td>6</td>\n",
       "      <td>3</td>\n",
       "      <td>1</td>\n",
       "      <td>4</td>\n",
       "      <td>0</td>\n",
       "      <td>38</td>\n",
       "      <td>82</td>\n",
       "      <td>132870</td>\n",
       "      <td>9</td>\n",
       "      <td>0</td>\n",
       "      <td>4356</td>\n",
       "      <td>18</td>\n",
       "    </tr>\n",
       "    <tr>\n",
       "      <th>1</th>\n",
       "      <td>2</td>\n",
       "      <td>5</td>\n",
       "      <td>0</td>\n",
       "      <td>6</td>\n",
       "      <td>4</td>\n",
       "      <td>4</td>\n",
       "      <td>0</td>\n",
       "      <td>38</td>\n",
       "      <td>54</td>\n",
       "      <td>140359</td>\n",
       "      <td>4</td>\n",
       "      <td>0</td>\n",
       "      <td>3900</td>\n",
       "      <td>40</td>\n",
       "    </tr>\n",
       "    <tr>\n",
       "      <th>2</th>\n",
       "      <td>2</td>\n",
       "      <td>15</td>\n",
       "      <td>5</td>\n",
       "      <td>9</td>\n",
       "      <td>3</td>\n",
       "      <td>4</td>\n",
       "      <td>0</td>\n",
       "      <td>38</td>\n",
       "      <td>41</td>\n",
       "      <td>264663</td>\n",
       "      <td>10</td>\n",
       "      <td>0</td>\n",
       "      <td>3900</td>\n",
       "      <td>40</td>\n",
       "    </tr>\n",
       "    <tr>\n",
       "      <th>3</th>\n",
       "      <td>2</td>\n",
       "      <td>11</td>\n",
       "      <td>0</td>\n",
       "      <td>7</td>\n",
       "      <td>4</td>\n",
       "      <td>4</td>\n",
       "      <td>0</td>\n",
       "      <td>38</td>\n",
       "      <td>34</td>\n",
       "      <td>216864</td>\n",
       "      <td>9</td>\n",
       "      <td>0</td>\n",
       "      <td>3770</td>\n",
       "      <td>45</td>\n",
       "    </tr>\n",
       "    <tr>\n",
       "      <th>4</th>\n",
       "      <td>2</td>\n",
       "      <td>0</td>\n",
       "      <td>5</td>\n",
       "      <td>0</td>\n",
       "      <td>4</td>\n",
       "      <td>4</td>\n",
       "      <td>1</td>\n",
       "      <td>38</td>\n",
       "      <td>38</td>\n",
       "      <td>150601</td>\n",
       "      <td>6</td>\n",
       "      <td>0</td>\n",
       "      <td>3770</td>\n",
       "      <td>40</td>\n",
       "    </tr>\n",
       "  </tbody>\n",
       "</table>\n",
       "</div>"
      ],
      "text/plain": [
       "   workclass_cat  education_cat  marital.status_cat  occupation_cat  \\\n",
       "0              2             11                   6               3   \n",
       "1              2              5                   0               6   \n",
       "2              2             15                   5               9   \n",
       "3              2             11                   0               7   \n",
       "4              2              0                   5               0   \n",
       "\n",
       "   relationship_cat  race_cat  sex_cat  native.country_cat  age  fnlwgt  \\\n",
       "0                 1         4        0                  38   82  132870   \n",
       "1                 4         4        0                  38   54  140359   \n",
       "2                 3         4        0                  38   41  264663   \n",
       "3                 4         4        0                  38   34  216864   \n",
       "4                 4         4        1                  38   38  150601   \n",
       "\n",
       "   education.num  capital.gain  capital.loss  hours.per.week  \n",
       "0              9             0          4356              18  \n",
       "1              4             0          3900              40  \n",
       "2             10             0          3900              40  \n",
       "3              9             0          3770              45  \n",
       "4              6             0          3770              40  "
      ]
     },
     "execution_count": 11,
     "metadata": {},
     "output_type": "execute_result"
    }
   ],
   "source": [
    "df_x.head()"
   ]
  },
  {
   "cell_type": "code",
   "execution_count": 12,
   "metadata": {
    "collapsed": false
   },
   "outputs": [
    {
     "data": {
      "text/plain": [
       "0    0\n",
       "1    0\n",
       "2    0\n",
       "3    0\n",
       "4    0\n",
       "Name: income, dtype: int64"
      ]
     },
     "execution_count": 12,
     "metadata": {},
     "output_type": "execute_result"
    }
   ],
   "source": [
    "df_y.head()"
   ]
  },
  {
   "cell_type": "markdown",
   "metadata": {},
   "source": [
    "Train-test split for cross validation"
   ]
  },
  {
   "cell_type": "code",
   "execution_count": 13,
   "metadata": {
    "collapsed": false
   },
   "outputs": [],
   "source": [
    "X_train, X_test, y_train, y_test = train_test_split(df_x, df_y, train_size=0.8, random_state=42)"
   ]
  },
  {
   "cell_type": "markdown",
   "metadata": {},
   "source": [
    "The entity embedding network expects the input to be of a specific type: If there are `n` categorical variables in the data set, we have to feed the network a list of length `n+1` that contains numpy arrays.\n",
    "The first `n` arrays in that list would contain the categorical columns, each with a shape of `M x 1`, and the last array would contain an array of `M x n_numeric` columns. Here, `M` is the number of examples in the data set and `n_numeric` is the number of numeric columns in the data set."
   ]
  },
  {
   "cell_type": "markdown",
   "metadata": {},
   "source": [
    "The above input list is created below:"
   ]
  },
  {
   "cell_type": "markdown",
   "metadata": {},
   "source": [
    "First, normalization of numeric features using `normalize_numeric_columns()` function. I'll do it separately for train and test data to avoid information leakage."
   ]
  },
  {
   "cell_type": "code",
   "execution_count": 14,
   "metadata": {
    "collapsed": false
   },
   "outputs": [
    {
     "name": "stdout",
     "output_type": "stream",
     "text": [
      "scaler saved to models/scaler.pickle\n"
     ]
    }
   ],
   "source": [
    "X_train, X_test = eh.normalize_numeric_columns(X_train, numeric_cols,scaler_path='models/scaler.pickle'), eh.normalize_numeric_columns(X_test, numeric_cols)"
   ]
  },
  {
   "cell_type": "code",
   "execution_count": 15,
   "metadata": {
    "collapsed": false
   },
   "outputs": [
    {
     "data": {
      "text/html": [
       "<div>\n",
       "<style scoped>\n",
       "    .dataframe tbody tr th:only-of-type {\n",
       "        vertical-align: middle;\n",
       "    }\n",
       "\n",
       "    .dataframe tbody tr th {\n",
       "        vertical-align: top;\n",
       "    }\n",
       "\n",
       "    .dataframe thead th {\n",
       "        text-align: right;\n",
       "    }\n",
       "</style>\n",
       "<table border=\"1\" class=\"dataframe\">\n",
       "  <thead>\n",
       "    <tr style=\"text-align: right;\">\n",
       "      <th></th>\n",
       "      <th>workclass_cat</th>\n",
       "      <th>education_cat</th>\n",
       "      <th>marital.status_cat</th>\n",
       "      <th>occupation_cat</th>\n",
       "      <th>relationship_cat</th>\n",
       "      <th>race_cat</th>\n",
       "      <th>sex_cat</th>\n",
       "      <th>native.country_cat</th>\n",
       "      <th>age</th>\n",
       "      <th>fnlwgt</th>\n",
       "      <th>education.num</th>\n",
       "      <th>capital.gain</th>\n",
       "      <th>capital.loss</th>\n",
       "      <th>hours.per.week</th>\n",
       "    </tr>\n",
       "  </thead>\n",
       "  <tbody>\n",
       "    <tr>\n",
       "      <th>0</th>\n",
       "      <td>2.0</td>\n",
       "      <td>15.0</td>\n",
       "      <td>2.0</td>\n",
       "      <td>11.0</td>\n",
       "      <td>0.0</td>\n",
       "      <td>4.0</td>\n",
       "      <td>1.0</td>\n",
       "      <td>38.0</td>\n",
       "      <td>-0.260419</td>\n",
       "      <td>-1.219814</td>\n",
       "      <td>-0.049732</td>\n",
       "      <td>-0.148554</td>\n",
       "      <td>-0.220988</td>\n",
       "      <td>0.339731</td>\n",
       "    </tr>\n",
       "    <tr>\n",
       "      <th>1</th>\n",
       "      <td>0.0</td>\n",
       "      <td>11.0</td>\n",
       "      <td>4.0</td>\n",
       "      <td>0.0</td>\n",
       "      <td>4.0</td>\n",
       "      <td>2.0</td>\n",
       "      <td>0.0</td>\n",
       "      <td>38.0</td>\n",
       "      <td>0.883963</td>\n",
       "      <td>1.106156</td>\n",
       "      <td>-0.440610</td>\n",
       "      <td>-0.148554</td>\n",
       "      <td>-0.220988</td>\n",
       "      <td>-2.414427</td>\n",
       "    </tr>\n",
       "    <tr>\n",
       "      <th>2</th>\n",
       "      <td>4.0</td>\n",
       "      <td>11.0</td>\n",
       "      <td>2.0</td>\n",
       "      <td>11.0</td>\n",
       "      <td>0.0</td>\n",
       "      <td>4.0</td>\n",
       "      <td>1.0</td>\n",
       "      <td>38.0</td>\n",
       "      <td>0.349918</td>\n",
       "      <td>0.773969</td>\n",
       "      <td>-0.440610</td>\n",
       "      <td>-0.148554</td>\n",
       "      <td>-0.220988</td>\n",
       "      <td>0.339731</td>\n",
       "    </tr>\n",
       "    <tr>\n",
       "      <th>3</th>\n",
       "      <td>2.0</td>\n",
       "      <td>15.0</td>\n",
       "      <td>4.0</td>\n",
       "      <td>3.0</td>\n",
       "      <td>3.0</td>\n",
       "      <td>3.0</td>\n",
       "      <td>1.0</td>\n",
       "      <td>28.0</td>\n",
       "      <td>-1.175924</td>\n",
       "      <td>2.760055</td>\n",
       "      <td>-0.049732</td>\n",
       "      <td>-0.148554</td>\n",
       "      <td>-0.220988</td>\n",
       "      <td>-1.412915</td>\n",
       "    </tr>\n",
       "    <tr>\n",
       "      <th>4</th>\n",
       "      <td>2.0</td>\n",
       "      <td>15.0</td>\n",
       "      <td>4.0</td>\n",
       "      <td>5.0</td>\n",
       "      <td>1.0</td>\n",
       "      <td>4.0</td>\n",
       "      <td>1.0</td>\n",
       "      <td>38.0</td>\n",
       "      <td>-0.641879</td>\n",
       "      <td>0.928687</td>\n",
       "      <td>-0.049732</td>\n",
       "      <td>-0.148554</td>\n",
       "      <td>-0.220988</td>\n",
       "      <td>-0.077565</td>\n",
       "    </tr>\n",
       "  </tbody>\n",
       "</table>\n",
       "</div>"
      ],
      "text/plain": [
       "   workclass_cat  education_cat  marital.status_cat  occupation_cat  \\\n",
       "0            2.0           15.0                 2.0            11.0   \n",
       "1            0.0           11.0                 4.0             0.0   \n",
       "2            4.0           11.0                 2.0            11.0   \n",
       "3            2.0           15.0                 4.0             3.0   \n",
       "4            2.0           15.0                 4.0             5.0   \n",
       "\n",
       "   relationship_cat  race_cat  sex_cat  native.country_cat       age  \\\n",
       "0               0.0       4.0      1.0                38.0 -0.260419   \n",
       "1               4.0       2.0      0.0                38.0  0.883963   \n",
       "2               0.0       4.0      1.0                38.0  0.349918   \n",
       "3               3.0       3.0      1.0                28.0 -1.175924   \n",
       "4               1.0       4.0      1.0                38.0 -0.641879   \n",
       "\n",
       "     fnlwgt  education.num  capital.gain  capital.loss  hours.per.week  \n",
       "0 -1.219814      -0.049732     -0.148554     -0.220988        0.339731  \n",
       "1  1.106156      -0.440610     -0.148554     -0.220988       -2.414427  \n",
       "2  0.773969      -0.440610     -0.148554     -0.220988        0.339731  \n",
       "3  2.760055      -0.049732     -0.148554     -0.220988       -1.412915  \n",
       "4  0.928687      -0.049732     -0.148554     -0.220988       -0.077565  "
      ]
     },
     "execution_count": 15,
     "metadata": {},
     "output_type": "execute_result"
    }
   ],
   "source": [
    "X_train.head()"
   ]
  },
  {
   "cell_type": "markdown",
   "metadata": {},
   "source": [
    "The function `make_input_list()` changes the dataframe to the desired format by the network."
   ]
  },
  {
   "cell_type": "code",
   "execution_count": 16,
   "metadata": {
    "collapsed": false
   },
   "outputs": [],
   "source": [
    "input_list_train, input_list_test = eh.make_input_list(X_train, cat_names ), eh.make_input_list(X_test, cat_names )"
   ]
  },
  {
   "cell_type": "code",
   "execution_count": 17,
   "metadata": {
    "collapsed": false
   },
   "outputs": [
    {
     "data": {
      "text/plain": [
       "[array([2, 0, 4, ..., 2, 2, 2]),\n",
       " array([15, 11, 11, ...,  9,  9, 11]),\n",
       " array([2, 4, 2, ..., 4, 4, 4]),\n",
       " array([11,  0, 11, ..., 11,  3, 13]),\n",
       " array([0, 4, 0, ..., 1, 1, 1]),\n",
       " array([4, 2, 4, ..., 4, 4, 4]),\n",
       " array([1, 0, 1, ..., 0, 1, 1]),\n",
       " array([38, 38, 38, ..., 38, 38, 38]),\n",
       " array([[-0.26041889, -0.14855368, -0.22098753, -0.04973246, -1.21981385,\n",
       "          0.33973132],\n",
       "        [ 0.88396284, -0.14855368, -0.22098753, -0.44061019,  1.10615565,\n",
       "         -2.41442708],\n",
       "        [ 0.34991803, -0.14855368, -0.22098753, -0.44061019,  0.77396909,\n",
       "          0.33973132],\n",
       "        ...,\n",
       "        [-1.02334005, -0.14855368,  4.36481515,  1.12290072,  0.03602426,\n",
       "         -0.07756541],\n",
       "        [-0.26041889, -0.14855368, -0.22098753,  1.12290072, -0.69063029,\n",
       "          0.75702804],\n",
       "        [-0.87075582, -0.14855368, -0.22098753, -0.44061019, -0.46599057,\n",
       "          1.5916215 ]])]"
      ]
     },
     "execution_count": 17,
     "metadata": {},
     "output_type": "execute_result"
    }
   ],
   "source": [
    "input_list_train"
   ]
  },
  {
   "cell_type": "code",
   "execution_count": 18,
   "metadata": {
    "collapsed": false
   },
   "outputs": [
    {
     "data": {
      "text/plain": [
       "(24129, 6)"
      ]
     },
     "execution_count": 18,
     "metadata": {},
     "output_type": "execute_result"
    }
   ],
   "source": [
    "# these are the numeric columns\n",
    "input_list_train[-1].shape"
   ]
  },
  {
   "cell_type": "markdown",
   "metadata": {
    "collapsed": true
   },
   "source": [
    "Crossvalidating the model"
   ]
  },
  {
   "cell_type": "code",
   "execution_count": 19,
   "metadata": {
    "collapsed": false
   },
   "outputs": [],
   "source": [
    "nn = eh.make_embedding_network()"
   ]
  },
  {
   "cell_type": "code",
   "execution_count": 20,
   "metadata": {
    "collapsed": false
   },
   "outputs": [],
   "source": [
    "num_epochs = 100\n",
    "batch_size=64\n",
    "history = nn.fit(x=input_list_train, y=y_train, batch_size=batch_size, epochs=num_epochs, validation_split=0.2 ,verbose=False)"
   ]
  },
  {
   "cell_type": "code",
   "execution_count": 21,
   "metadata": {
    "collapsed": false
   },
   "outputs": [
    {
     "data": {
      "text/plain": [
       "{'batch_size': 64,\n",
       " 'do_validation': True,\n",
       " 'epochs': 100,\n",
       " 'metrics': ['loss', 'acc', 'val_loss', 'val_acc'],\n",
       " 'samples': 19303,\n",
       " 'steps': None,\n",
       " 'verbose': False}"
      ]
     },
     "execution_count": 21,
     "metadata": {},
     "output_type": "execute_result"
    }
   ],
   "source": [
    "history.params"
   ]
  },
  {
   "cell_type": "code",
   "execution_count": 22,
   "metadata": {
    "collapsed": false
   },
   "outputs": [],
   "source": [
    "losses = history.history['loss']\n",
    "train_acc = history.history['acc']\n",
    "val_acc = history.history['val_acc']"
   ]
  },
  {
   "cell_type": "code",
   "execution_count": 23,
   "metadata": {
    "collapsed": false
   },
   "outputs": [
    {
     "data": {
      "image/png": "[encoded data removed]",
      "text/plain": [
       "<matplotlib.figure.Figure at 0x7f73fe6d33d0>"
      ]
     },
     "metadata": {},
     "output_type": "display_data"
    }
   ],
   "source": [
    "f, ax = plt.subplots(1,2, figsize=(12,5))\n",
    "ax[0].plot(np.arange(100), train_acc, 'b', label='Training accuracy');ax[0].plot(np.arange(100), val_acc, 'r', label='Validation accuracy'); ax[0].set_title('Train-Validation Accuracies'); ax[0].legend(loc=0); ax[0].set_xlabel('Epoch Nnumber');\n",
    "ax[1].plot(losses); ax[1].set_title('Binary cross entropy loss'); ax[1].set_xlabel('Epoch Nnumber');"
   ]
  },
  {
   "cell_type": "markdown",
   "metadata": {},
   "source": [
    "Perfomance on the test set"
   ]
  },
  {
   "cell_type": "code",
   "execution_count": 24,
   "metadata": {
    "collapsed": false
   },
   "outputs": [],
   "source": [
    "y_pred = nn.predict_on_batch(input_list_test)"
   ]
  },
  {
   "cell_type": "code",
   "execution_count": 25,
   "metadata": {
    "collapsed": false
   },
   "outputs": [],
   "source": [
    "y_pred =y_pred.astype(int)"
   ]
  },
  {
   "cell_type": "code",
   "execution_count": 26,
   "metadata": {
    "collapsed": false,
    "scrolled": true
   },
   "outputs": [
    {
     "data": {
      "text/plain": [
       "0.7566716393170894"
      ]
     },
     "execution_count": 26,
     "metadata": {},
     "output_type": "execute_result"
    }
   ],
   "source": [
    "accuracy_score(y_test, y_pred)"
   ]
  },
  {
   "cell_type": "markdown",
   "metadata": {},
   "source": [
    "Save the learned model"
   ]
  },
  {
   "cell_type": "code",
   "execution_count": 27,
   "metadata": {
    "collapsed": true
   },
   "outputs": [],
   "source": [
    "model_path, weights_path = 'models/nn_basic_cv.json', 'models/nn_basic_cv_weights.h5'"
   ]
  },
  {
   "cell_type": "code",
   "execution_count": 28,
   "metadata": {
    "collapsed": false,
    "scrolled": true
   },
   "outputs": [
    {
     "name": "stdout",
     "output_type": "stream",
     "text": [
      "Saved model to models/nn_basic_cv.json\n",
      "Saved model weights to models/nn_basic_cv_weights.h5\n"
     ]
    }
   ],
   "source": [
    "eh.save_model(nn, model_path, weights_path)"
   ]
  },
  {
   "cell_type": "markdown",
   "metadata": {},
   "source": [
    "Save the category embeddings"
   ]
  },
  {
   "cell_type": "code",
   "execution_count": 29,
   "metadata": {
    "collapsed": false
   },
   "outputs": [],
   "source": [
    "country_embedding = nn.get_layer('country_embedding').get_weights()[0]\n",
    "education_embedding = nn.get_layer('education_embedding').get_weights()[0]\n",
    "marital_status_embedding = nn.get_layer('marital_status_embedding').get_weights()[0]\n",
    "occupation_embedding = nn.get_layer('occupation_embedding').get_weights()[0]\n",
    "race_embedding = nn.get_layer('race_embedding').get_weights()[0]\n",
    "relationship_embedding = nn.get_layer('relationship_embedding').get_weights()[0]\n",
    "work_class_embedding = nn.get_layer('work_class_embedding').get_weights()[0]\n",
    "\n",
    "with open(\"models/embeddings.pickle\", 'wb') as f:\n",
    "    pickle.dump([country_embedding, \n",
    "                 education_embedding, \n",
    "                 marital_status_embedding, \n",
    "                 occupation_embedding, \n",
    "                 race_embedding, \n",
    "                 relationship_embedding,\n",
    "                 work_class_embedding\n",
    "                ], f, -1)"
   ]
  }
 ],
 "metadata": {
  "kernelspec": {
   "display_name": "Python 2",
   "language": "python",
   "name": "python2"
  },
  "language_info": {
   "codemirror_mode": {
    "name": "ipython",
    "version": 2
   },
   "file_extension": ".py",
   "mimetype": "text/x-python",
   "name": "python",
   "nbconvert_exporter": "python",
   "pygments_lexer": "ipython2",
   "version": "2.7.6"
  }
 },
 "nbformat": 4,
 "nbformat_minor": 0
}
